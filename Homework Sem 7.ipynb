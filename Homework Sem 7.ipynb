{
 "cells": [
  {
   "cell_type": "markdown",
   "id": "56d119f6",
   "metadata": {},
   "source": [
    "## Гипотеза: Если наряду с фото товара в карточках использовать видеоролики, конверсия просмотров в продажи вырастет с 2.1% до 2.6%, т.к. по статистике видеоконтент привлекает внимание покупателей больше, чем фото.\n",
    "\n",
    "### Что делаем\n",
    "### *Контрольная версия: показываем только фото товара в карточках (оставляем, как есть сейчас). Тестовая версия: показываем не только фото товара, но и короткие видеоролики о товаре в карточках.*\n",
    "\n",
    "### На каких пользователях тестируем\n",
    "### *Все пользователи, которые заходят на страницу с товаром.*\n",
    "\n",
    "### Метрики\n",
    "### *Конверсия просмотров страницы с товаром в продажи.*\n",
    "\n",
    "### План действий\n",
    "### *Если конверсия просмотров в продажи действительно увеличится с текущих 2.1% до предполагаемых 2.6%, во все карточки товаров добавим видеоролики о товаре для всех потенциальных покупателей.*\n",
    "### *Если предполагаемую конверсию достичь не удастся, оставляем в карточках только фото.*"
   ]
  },
  {
   "cell_type": "code",
   "execution_count": 2,
   "id": "51cdda66",
   "metadata": {},
   "outputs": [],
   "source": [
    "from statsmodels.stats.power import tt_ind_solve_power, zt_ind_solve_power\n",
    "from statsmodels.stats.proportion import proportion_effectsize\n",
    "from statsmodels.stats.meta_analysis import effectsize_smd\n",
    "from typing import Union\n",
    "import plotly.graph_objects as go\n",
    "from scipy import stats\n",
    "from math import asin\n",
    "import numpy as np"
   ]
  },
  {
   "cell_type": "markdown",
   "id": "bac1b30e",
   "metadata": {},
   "source": [
    "#### Для определения продолжительности проведения эксперимента посчитаем необходимое количество наблюдений. Нам известны alpha = 5%, мощность эксперимента = 1-beta = 1-0.2 = 0.8 = 80%, посчитаем effect size с помощью z-критерия для пропорций, т.к. целевой метрикой является конверсия:"
   ]
  },
  {
   "cell_type": "code",
   "execution_count": 9,
   "id": "b422d610",
   "metadata": {},
   "outputs": [],
   "source": [
    "def calc_proportion_effect_size(prob_1: float, prob_2: float):\n",
    "    return abs(proportion_effectsize(prob_1, prob_2))"
   ]
  },
  {
   "cell_type": "code",
   "execution_count": 10,
   "id": "fd4a6399",
   "metadata": {},
   "outputs": [
    {
     "data": {
      "text/plain": [
       "0.033052736898224966"
      ]
     },
     "execution_count": 10,
     "metadata": {},
     "output_type": "execute_result"
    }
   ],
   "source": [
    "conv_1, conv_2 = 0.021, 0.026\n",
    "es_prop = calc_proportion_effect_size(conv_1, conv_2)\n",
    "es_prop"
   ]
  },
  {
   "cell_type": "markdown",
   "id": "523204c9",
   "metadata": {},
   "source": [
    "#### Подставим значение effect size в функцию, пятым неизвестным элементом которой является nobs - количество наблюдений:"
   ]
  },
  {
   "cell_type": "code",
   "execution_count": 13,
   "id": "eb6899ec",
   "metadata": {},
   "outputs": [],
   "source": [
    "def calc_sample_size_proportion(effect_size: float,\n",
    "                                alpha: float = .05,\n",
    "                                beta: float = .2,\n",
    "                                ratio: Union[float, int] = 1):\n",
    "    \n",
    "    n = zt_ind_solve_power(effect_size=effect_size,\n",
    "                           alpha=alpha,\n",
    "                           power=(1 - beta),\n",
    "                           ratio=ratio,\n",
    "                  )\n",
    "    return int(n)"
   ]
  },
  {
   "cell_type": "code",
   "execution_count": 14,
   "id": "32362780",
   "metadata": {},
   "outputs": [
    {
     "data": {
      "text/plain": [
       "14368"
      ]
     },
     "execution_count": 14,
     "metadata": {},
     "output_type": "execute_result"
    }
   ],
   "source": [
    "calc_sample_size_proportion(es_prop)"
   ]
  },
  {
   "cell_type": "markdown",
   "id": "965ba6e5",
   "metadata": {},
   "source": [
    "#### 14368 наблюдений для каждой (контрольной и тестовой) версии потребуется для завершения эксперимента и фиксации результата/выводов. Если предположить, что ежедневное количество просмотров страницы карточки товара ~2000, нам потребуется (14368*2)/2000=14.37 дней."
   ]
  }
 ],
 "metadata": {
  "kernelspec": {
   "display_name": "Python 3 (ipykernel)",
   "language": "python",
   "name": "python3"
  },
  "language_info": {
   "codemirror_mode": {
    "name": "ipython",
    "version": 3
   },
   "file_extension": ".py",
   "mimetype": "text/x-python",
   "name": "python",
   "nbconvert_exporter": "python",
   "pygments_lexer": "ipython3",
   "version": "3.9.13"
  }
 },
 "nbformat": 4,
 "nbformat_minor": 5
}
